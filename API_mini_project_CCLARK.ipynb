{
 "cells": [
  {
   "cell_type": "markdown",
   "metadata": {},
   "source": [
    "This exercise will require you to pull some data from the Qunadl API. Qaundl is currently the most widely used aggregator of financial market data."
   ]
  },
  {
   "cell_type": "markdown",
   "metadata": {},
   "source": [
    "As a first step, you will need to register a free account on the http://www.quandl.com website."
   ]
  },
  {
   "cell_type": "code",
   "execution_count": null,
   "metadata": {},
   "outputs": [],
   "source": [
    "After you register, you will be provided with a unique API key, that you should store:\n",
    "API_KEY = ' '"
   ]
  },
  {
   "cell_type": "markdown",
   "metadata": {},
   "source": [
    "Qaundl has a large number of data sources, but, unfortunately, most of them require a Premium subscription. Still, there are also a good number of free datasets."
   ]
  },
  {
   "cell_type": "markdown",
   "metadata": {},
   "source": [
    "For this mini project, we will focus on equities data from the Frankfurt Stock Exhange (FSE), which is available for free. We'll try and analyze the stock prices of a company called Carl Zeiss Meditec, which manufactures tools for eye examinations, as well as medical lasers for laser eye surgery: https://www.zeiss.com/meditec/int/home.html. The company is listed under the stock ticker AFX_X."
   ]
  },
  {
   "cell_type": "markdown",
   "metadata": {},
   "source": [
    "You can find the detailed Quandl API instructions here: https://docs.quandl.com/docs/time-series"
   ]
  },
  {
   "cell_type": "markdown",
   "metadata": {},
   "source": [
    "While there is a dedicated Python package for connecting to the Quandl API, we would prefer that you use the *requests* package, which can be easily downloaded using *pip* or *conda*. You can find the documentation for the package here: http://docs.python-requests.org/en/master/ "
   ]
  },
  {
   "cell_type": "markdown",
   "metadata": {},
   "source": [
    "Finally, apart from the *requests* package, you are encouraged to not use any third party Python packages, such as *pandas*, and instead focus on what's available in the Python Standard Library (the *collections* module might come in handy: https://pymotw.com/3/collections/ ).\n",
    "Also, since you won't have access to DataFrames, you are encouraged to us Python's native data structures - preferably dictionaries, though some questions can also be answered using lists.\n",
    "You can read more on these data structures here: https://docs.python.org/3/tutorial/datastructures.html"
   ]
  },
  {
   "cell_type": "markdown",
   "metadata": {},
   "source": [
    "Keep in mind that the JSON responses you will be getting from the API map almost one-to-one to Python's dictionaries. Unfortunately, they can be very nested, so make sure you read up on indexing dictionaries in the documentation provided above."
   ]
  },
  {
   "cell_type": "code",
   "execution_count": 1,
   "metadata": {},
   "outputs": [],
   "source": [
    "# First, import the relevant modules\n",
    "import requests\n"
   ]
  },
  {
   "cell_type": "code",
   "execution_count": 2,
   "metadata": {},
   "outputs": [],
   "source": [
    "# Now, call the Quandl API and pull out a small sample of the data (only one day) to get a glimpse\n",
    "# into the JSON structure that will be returned\n",
    "r = requests.get('https://www.quandl.com/api/v3/datasets/FSE/EON_X?start_date=2019-12-13&end_date=2019-12-13&api_key=API_KEY')"
   ]
  },
  {
   "cell_type": "code",
   "execution_count": 3,
   "metadata": {},
   "outputs": [
    {
     "name": "stdout",
     "output_type": "stream",
     "text": [
      "{'dataset': {'id': 36592406, 'dataset_code': 'EON_X', 'database_code': 'FSE', 'name': 'E.on Se (EON_X)', 'description': 'Stock Prices for E.on Se (2019-12-06) from the Frankfurt Stock Exchange.<br><br>Trading System: Xetra<br><br>ISIN: DE000ENAG999', 'refreshed_at': '2019-12-20T22:17:18.732Z', 'newest_available_date': '2019-12-20', 'oldest_available_date': '2003-01-20', 'column_names': ['Date', 'Open', 'High', 'Low', 'Close', 'Change', 'Traded Volume', 'Turnover', 'Last Price of the Day', 'Daily Traded Units', 'Daily Turnover'], 'frequency': 'daily', 'type': 'Time Series', 'premium': False, 'limit': None, 'transform': None, 'column_index': None, 'start_date': '2019-12-13', 'end_date': '2019-12-13', 'data': [['2019-12-13', 9.38, 9.418, 9.295, 9.371, None, 10204325.0, 95493864.0, None, None, None]], 'collapse': None, 'order': None, 'database_id': 6129}}\n"
     ]
    }
   ],
   "source": [
    "# Inspect the JSON structure of the object you created, and take note of how nested it is,\n",
    "# as well as the overall structure\n",
    "print(r.json())"
   ]
  },
  {
   "cell_type": "markdown",
   "metadata": {},
   "source": [
    "These are your tasks for this mini project:\n",
    "\n",
    "1. Collect data from the Franfurt Stock Exchange, for the ticker AFX_X, for the whole year 2017 (keep in mind that the date format is YYYY-MM-DD).\n",
    "2. Convert the returned JSON object into a Python dictionary.\n",
    "3. Calculate what the highest and lowest opening prices were for the stock in this period.\n",
    "4. What was the largest change in any one day (based on High and Low price)?\n",
    "5. What was the largest change between any two days (based on Closing Price)?\n",
    "6. What was the average daily trading volume during this year?\n",
    "7. (Optional) What was the median trading volume during this year. (Note: you may need to implement your own function for calculating the median.)"
   ]
  },
  {
   "cell_type": "code",
   "execution_count": 4,
   "metadata": {},
   "outputs": [
    {
     "data": {
      "text/plain": [
       "200"
      ]
     },
     "execution_count": 4,
     "metadata": {},
     "output_type": "execute_result"
    }
   ],
   "source": [
    "# 1. Collect data from the Franfurt Stock Exchange, for the ticker AFX_X, for the \n",
    "# whole year 2017 (keep in mind that the date format is YYYY-MM-DD).\n",
    "\n",
    "# Call the Quandl API and pull out all 2017 data from the Frankfurt Stock Exchange for the ticker AFX_X \n",
    "r1 = requests.get('https://www.quandl.com/api/v3/datasets/FSE/AFX_X?start_date=2017-01-01&end_date=2017-12-31&api_key=API_KEY')\n",
    "# Check the status of response, a successful response will yield '200' status code\n",
    "r1.status_code"
   ]
  },
  {
   "cell_type": "code",
   "execution_count": 5,
   "metadata": {},
   "outputs": [
    {
     "name": "stdout",
     "output_type": "stream",
     "text": [
      "<class 'dict'>\n"
     ]
    }
   ],
   "source": [
    "# 2. Convert the returned JSON object into a Python dictionary\n",
    "afxx_dict = r1.json()\n",
    "print(type(afxx_dict))"
   ]
  },
  {
   "cell_type": "code",
   "execution_count": 6,
   "metadata": {},
   "outputs": [],
   "source": [
    "# print(afxx_dict['dataset'])"
   ]
  },
  {
   "cell_type": "code",
   "execution_count": 7,
   "metadata": {},
   "outputs": [],
   "source": [
    "# Find the number of entries; n_entries\n",
    "n_entries = len(afxx_dict['dataset']['data'])"
   ]
  },
  {
   "cell_type": "code",
   "execution_count": 8,
   "metadata": {},
   "outputs": [],
   "source": [
    "# 3. Calculate what the highest and lowest opening prices were for the stock in this period.\n",
    "\n",
    "# Use comprehension to get opening prices from data (second column), but omit 'None' entries; open_prices\n",
    "open_prices = [afxx_dict['dataset']['data'][x][1] for x in range(0,n_entries) if afxx_dict['dataset']['data'][x][1] != None]\n"
   ]
  },
  {
   "cell_type": "code",
   "execution_count": 9,
   "metadata": {},
   "outputs": [
    {
     "name": "stdout",
     "output_type": "stream",
     "text": [
      "'The highest opening price in 2017 was $53.11\n",
      "'The lowest opening price in 2017 was $34.00\n"
     ]
    }
   ],
   "source": [
    "# Find the highest opening price\n",
    "print(f\"'The highest opening price in 2017 was ${max(open_prices)}\")\n",
    "# Find the lowest opening price\n",
    "print(f\"'The lowest opening price in 2017 was ${min(open_prices):.2f}\")"
   ]
  },
  {
   "cell_type": "code",
   "execution_count": 10,
   "metadata": {},
   "outputs": [
    {
     "name": "stdout",
     "output_type": "stream",
     "text": [
      "The largest change within a day in 2017 was $ 2.81\n"
     ]
    }
   ],
   "source": [
    "# 4. What was the largest change in any one day (based on High and Low price)?\n",
    "\n",
    "# Use comprehension to subtract Low from High price for every entry (third and fourth column); \n",
    "change = [afxx_dict['dataset']['data'][x][2] - afxx_dict['dataset']['data'][x][3] for x in range(0,n_entries) if afxx_dict['dataset']['data'][x][2] != None and afxx_dict['dataset']['data'][x][3] != None]\n",
    "\n",
    "# The largest change within a day is the maximum of 'change'\n",
    "print('The largest change within a day in 2017 was $', round(max(change),2))"
   ]
  },
  {
   "cell_type": "code",
   "execution_count": 11,
   "metadata": {
    "scrolled": true
   },
   "outputs": [
    {
     "name": "stdout",
     "output_type": "stream",
     "text": [
      "The largest change between any two days in 2017 based on Closing price was $ 19.03\n"
     ]
    }
   ],
   "source": [
    "# 5. What was the largest change between any two days (based on Closing Price)?\n",
    "# I interpreted this question to mean the largest change between any two non-consecutive days,\n",
    "# so all that's needed is the highest and lowest closing prices in 2017.\n",
    "\n",
    "# Use comprehension to get Closing prices in data (fifth column); \n",
    "close = [afxx_dict['dataset']['data'][x][4] for x in range(0,n_entries) if afxx_dict['dataset']['data'][x][4] != None]\n",
    "\n",
    "\n",
    "print('The largest change between any two days in 2017 based on Closing price was $', max(close)-min(close))"
   ]
  },
  {
   "cell_type": "code",
   "execution_count": 12,
   "metadata": {},
   "outputs": [
    {
     "name": "stdout",
     "output_type": "stream",
     "text": [
      "The largest change between two consecutive days in 2017 based on Closing price was $ 2.56\n"
     ]
    }
   ],
   "source": [
    "# If you want to get the largest change between two consecutive days, then create we can\n",
    "# create an empty list; consec_change, and find the difference between every two consecutive\n",
    "# entries.\n",
    "\n",
    "consec_change = []\n",
    "for i in range(len(close)-1):\n",
    "    consec_change.append(close[i+1] - close[i])\n",
    "\n",
    "# Take the absolute value of every change\n",
    "abs_change = [abs(x) for x in consec_change]\n",
    "\n",
    "# Print the maximum change\n",
    "print('The largest change between two consecutive days in 2017 based on Closing price was $',round(max(abs_change), 2))"
   ]
  },
  {
   "cell_type": "code",
   "execution_count": 13,
   "metadata": {},
   "outputs": [
    {
     "name": "stdout",
     "output_type": "stream",
     "text": [
      "The average daily trading volume during 2017 was 89124.3\n"
     ]
    }
   ],
   "source": [
    "# 6. What was the average daily trading volume (seventh column) during this year?\n",
    "vol = [afxx_dict['dataset']['data'][x][6] for x in range(0,n_entries) if afxx_dict['dataset']['data'][x][6] != None]\n",
    "\n",
    "print('The average daily trading volume during 2017 was', round(sum(vol)/len(vol),1))"
   ]
  },
  {
   "cell_type": "code",
   "execution_count": 14,
   "metadata": {},
   "outputs": [
    {
     "name": "stdout",
     "output_type": "stream",
     "text": [
      "The median trading volume during 2017 was 76286.0\n"
     ]
    }
   ],
   "source": [
    "# 7. (Optional) What was the median trading volume during this year. \n",
    "# (Note: you may need to implement your own function for calculating the median.)\n",
    "\n",
    "def median(a_list):\n",
    "    length = len(a_list)\n",
    "    a_list.sort()\n",
    "    #print(a_list)\n",
    "    if length % 2 == 1: # if odd length\n",
    "        mid = length // 2 + 1\n",
    "        ind = mid - 1\n",
    "        return a_list[ind]\n",
    "    else: #if even length\n",
    "        mid = length / 2\n",
    "        ind = int(mid - 1)\n",
    "        mid2 = mid + 1\n",
    "        ind2 = int(mid2 - 1)\n",
    "        return float((a_list[ind] + a_list[ind2]) / 2)\n",
    "\n",
    "print('The median trading volume during 2017 was',median(vol))"
   ]
  },
  {
   "cell_type": "code",
   "execution_count": null,
   "metadata": {},
   "outputs": [],
   "source": []
  }
 ],
 "metadata": {
  "kernelspec": {
   "display_name": "Python 3",
   "language": "python",
   "name": "python3"
  },
  "language_info": {
   "codemirror_mode": {
    "name": "ipython",
    "version": 3
   },
   "file_extension": ".py",
   "mimetype": "text/x-python",
   "name": "python",
   "nbconvert_exporter": "python",
   "pygments_lexer": "ipython3",
   "version": "3.7.4"
  }
 },
 "nbformat": 4,
 "nbformat_minor": 2
}
