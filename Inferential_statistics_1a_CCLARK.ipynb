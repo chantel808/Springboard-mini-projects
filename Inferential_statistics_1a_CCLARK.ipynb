{
  "cells": [
    {
      "metadata": {},
      "cell_type": "markdown",
      "source": "# Inferential Statistics Ia - Frequentism\n## Completed by Chantel Clark"
    },
    {
      "metadata": {},
      "cell_type": "markdown",
      "source": "## Learning objectives"
    },
    {
      "metadata": {},
      "cell_type": "markdown",
      "source": "Welcome to the first Frequentist inference mini-project! Over the course of working on this mini-project and the next frequentist mini-project, you'll learn the fundamental concepts associated with frequentist inference. The following list includes the topics you will become familiar with as you work through these two mini-projects:\n* the _z_-statistic\n* the _t_-statistic\n* the difference and relationship between the two\n* the Central Limit Theorem, including its assumptions and consequences\n* how to estimate the population mean and standard deviation from a sample\n* the concept of a sampling distribution of a test statistic, particularly for the mean\n* how to combine these concepts to calculate a confidence interval"
    },
    {
      "metadata": {},
      "cell_type": "markdown",
      "source": "## Prerequisites"
    },
    {
      "metadata": {},
      "cell_type": "markdown",
      "source": "For working through this notebook, you are expected to have a very basic understanding of:\n* what a random variable is\n* what a probability density function (pdf) is\n* what the cumulative density function is\n* a high-level sense of what the Normal distribution\n\nIf these concepts are new to you, please take a few moments to Google these topics in order to get a sense of what they are and how you might use them.\n\nWhile it's great if you have previous knowledge about sampling distributions, this assignment will introduce the concept and set you up to practice working using sampling distributions. This notebook was designed to bridge the gap between having a basic understanding of probability and random variables and being able to apply these concepts in Python. The second frequentist inference mini-project focuses on a real-world application of this type of inference to give you further practice using these concepts. "
    },
    {
      "metadata": {},
      "cell_type": "markdown",
      "source": "For this notebook, we will use data sampled from a known normal distribution. This allows us to compare our results with theoretical expectations."
    },
    {
      "metadata": {},
      "cell_type": "markdown",
      "source": "## I An introduction to sampling from the Normal distribution"
    },
    {
      "metadata": {},
      "cell_type": "markdown",
      "source": "First, let's explore the ways we can generate the Normal distribution. While there's a fair amount of interest in [sklearn](https://scikit-learn.org/stable/) within the machine learning community, you're likely to have heard of [scipy](https://docs.scipy.org/doc/scipy-0.15.1/reference/index.html) if you're coming from the sciences. For this assignment, you'll use [scipy.stats](https://docs.scipy.org/doc/scipy-0.15.1/reference/tutorial/stats.html) to complete your work."
    },
    {
      "metadata": {
        "trusted": true
      },
      "cell_type": "code",
      "source": "from scipy.stats import norm\nfrom scipy.stats import t\nimport numpy as np\nimport pandas as pd\nfrom numpy.random import seed\nimport matplotlib.pyplot as plt",
      "execution_count": 2,
      "outputs": []
    },
    {
      "metadata": {},
      "cell_type": "markdown",
      "source": "__Q:__ Call up the documentation for the `norm` function imported above. What is the second listed method?"
    },
    {
      "metadata": {
        "trusted": true
      },
      "cell_type": "code",
      "source": "norm?\n",
      "execution_count": 66,
      "outputs": []
    },
    {
      "metadata": {},
      "cell_type": "markdown",
      "source": "__A:__the second method is pdf(x, loc=0, scale=1), a Probability density function."
    },
    {
      "metadata": {},
      "cell_type": "markdown",
      "source": "__Q:__ Use the method that generates random variates to draw five samples from the standard normal distribution."
    },
    {
      "metadata": {},
      "cell_type": "markdown",
      "source": "__A:__print(norm.rvs(size=5))  \n\n[-0.84800948  1.30590636  0.92420797  0.6404118  -1.05473698]"
    },
    {
      "metadata": {
        "trusted": true
      },
      "cell_type": "code",
      "source": "seed(47)\n# draw five samples here\nsamples = norm.rvs(size=5)\n\nprint(samples)",
      "execution_count": 67,
      "outputs": [
        {
          "output_type": "stream",
          "text": "[-0.84800948  1.30590636  0.92420797  0.6404118  -1.05473698]\n",
          "name": "stdout"
        }
      ]
    },
    {
      "metadata": {},
      "cell_type": "markdown",
      "source": "__Q:__ What is the mean of this sample? Is it exactly equal to the value you expected? Hint: the sample was drawn from the standard normal distribution."
    },
    {
      "metadata": {},
      "cell_type": "markdown",
      "source": "__A:__The mean of the sample is 0.194, which is close to the expected mean of 0, but not exactly equal to the expected value because of the randomness of sampling from the distribution."
    },
    {
      "metadata": {
        "trusted": true
      },
      "cell_type": "code",
      "source": "# Calculate and print the mean here, hint: use np.mean()\nsample_mean = np.mean(samples)\n\nprint(sample_mean)",
      "execution_count": 68,
      "outputs": [
        {
          "output_type": "stream",
          "text": "0.19355593334131074\n",
          "name": "stdout"
        }
      ]
    },
    {
      "metadata": {},
      "cell_type": "markdown",
      "source": "__Q:__ What is the standard deviation of these numbers? Calculate this manually here as $\\sqrt{\\frac{\\sum_i(x_i - \\bar{x})^2}{n}}$. Hint: np.sqrt() and np.sum() will be useful here and remember that numpy supports [broadcasting](https://docs.scipy.org/doc/numpy/user/basics.broadcasting.html)."
    },
    {
      "metadata": {},
      "cell_type": "markdown",
      "source": "__A:__The standard deviation is 0.9606195639478641."
    },
    {
      "metadata": {
        "trusted": true
      },
      "cell_type": "code",
      "source": "sd = np.sqrt(np.sum((samples - sample_mean) ** 2) / len(samples))\nprint(sd)\n",
      "execution_count": 69,
      "outputs": [
        {
          "output_type": "stream",
          "text": "0.9606195639478641\n",
          "name": "stdout"
        }
      ]
    },
    {
      "metadata": {},
      "cell_type": "markdown",
      "source": "Here we have calculated the actual standard deviation of a small (size 5) data set. But in this case, this small data set is actually a sample from our larger (infinite) population. In this case, the population is infinite because we could keep drawing our normal random variates until our computers die. In general, the sample mean we calculate will not be equal to the population mean (as we saw above). A consequence of this is that the sum of squares of the deviations from the _population_ mean will be bigger than the sum of squares of the deviations from the _sample_ mean. In other words, the sum of squares of the deviations from the _sample_ mean is too small to give an unbiased estimate of the _population_ variance. An example of this effect is given [here](https://en.wikipedia.org/wiki/Bessel%27s_correction#Source_of_bias). Scaling our estimate of the variance by the factor $n/(n-1)$ gives an unbiased estimator of the population variance. This factor is known as [Bessel's correction](https://en.wikipedia.org/wiki/Bessel%27s_correction). The consequence of this is that the $n$ in the denominator is replaced by $n-1$.\n\n__Q:__ If all we had to go on was our five samples, what would be our best estimate of the population standard deviation? Use Bessel's correction ($n-1$ in the denominator), thus $\\sqrt{\\frac{\\sum_i(x_i - \\bar{x})^2}{n-1}}$."
    },
    {
      "metadata": {},
      "cell_type": "markdown",
      "source": "__A:__"
    },
    {
      "metadata": {
        "trusted": true
      },
      "cell_type": "code",
      "source": "sd = np.sqrt(np.sum((samples - sample_mean) ** 2) / (len(samples)-1))\nprint(sd)",
      "execution_count": 70,
      "outputs": [
        {
          "output_type": "stream",
          "text": "1.0740053227518152\n",
          "name": "stdout"
        }
      ]
    },
    {
      "metadata": {},
      "cell_type": "markdown",
      "source": "__Q:__ Now use numpy's std function to calculate the standard deviation of our random samples. Which of the above standard deviations did it return?"
    },
    {
      "metadata": {},
      "cell_type": "markdown",
      "source": "__A:__It gives the first standard deviation that was calculated with only n in the denominator."
    },
    {
      "metadata": {
        "trusted": true
      },
      "cell_type": "code",
      "source": "np.std(samples)",
      "execution_count": 71,
      "outputs": [
        {
          "output_type": "execute_result",
          "execution_count": 71,
          "data": {
            "text/plain": "0.9606195639478641"
          },
          "metadata": {}
        }
      ]
    },
    {
      "metadata": {},
      "cell_type": "markdown",
      "source": "__Q:__ Consult the documentation for np.std() to see how to apply the correction for estimating the population parameter and verify this produces the expected result."
    },
    {
      "metadata": {},
      "cell_type": "markdown",
      "source": "__A:__ To apply the correction set ddof (Delta Degrees of Freedom) = 1."
    },
    {
      "metadata": {
        "trusted": true
      },
      "cell_type": "code",
      "source": "# help(np.std)\n\nnp.std(samples, ddof=1)",
      "execution_count": 72,
      "outputs": [
        {
          "output_type": "execute_result",
          "execution_count": 72,
          "data": {
            "text/plain": "1.0740053227518152"
          },
          "metadata": {}
        }
      ]
    },
    {
      "metadata": {},
      "cell_type": "markdown",
      "source": "### Summary of section"
    },
    {
      "metadata": {},
      "cell_type": "markdown",
      "source": "In this section, you've been introduced to the scipy.stats package and used it to draw a small sample from the standard normal distribution. You've calculated the average (the mean) of this sample and seen that this is not exactly equal to the expected population parameter (which we know because we're generating the random variates from a specific, known distribution). You've been introduced to two ways of calculating the standard deviation; one uses $n$ in the denominator and the other uses $n-1$ (Bessel's correction). You've also seen which of these calculations np.std() performs by default and how to get it to generate the other."
    },
    {
      "metadata": {},
      "cell_type": "markdown",
      "source": "You use $n$ as the denominator if you want to calculate the standard deviation of a sequence of numbers. You use $n-1$ if you are using this sequence of numbers to estimate the population parameter. This brings us to some terminology that can be a little confusing.\n\nThe population parameter is traditionally written as $\\sigma$ and the sample statistic as $s$. Rather unhelpfully, $s$ is also called the sample standard deviation (using $n-1$) whereas the standard deviation of the sample uses $n$. That's right, we have the sample standard deviation and the standard deviation of the sample and they're not the same thing!\n\nThe sample standard deviation\n\\begin{equation}\ns = \\sqrt{\\frac{\\sum_i(x_i - \\bar{x})^2}{n-1}} \\approx \\sigma,\n\\end{equation}\nis our best (unbiased) estimate of the population parameter ($\\sigma$).\n\nIf your data set _is_ your entire population, you simply want to calculate the population parameter, $\\sigma$, via\n\\begin{equation}\n\\sigma = \\sqrt{\\frac{\\sum_i(x_i - \\bar{x})^2}{n}}\n\\end{equation}\nas you have complete, full knowledge of your population. In other words, your sample _is_ your population. It's worth noting at this point if your sample is your population then you know absolutely everything about your population, there are no probabilities really to calculate and no inference to be done.\n\nIf, however, you have sampled _from_ your population, you only have partial knowledge of the state of your population and the standard deviation of your sample is not an unbiased estimate of the standard deviation of the population, in which case you seek to estimate that population parameter via the sample standard deviation, which uses the $n-1$ denominator."
    },
    {
      "metadata": {},
      "cell_type": "markdown",
      "source": "You're now firmly in frequentist theory territory. Great work so far! Now let's dive deeper."
    },
    {
      "metadata": {},
      "cell_type": "markdown",
      "source": "## II Sampling distributions"
    },
    {
      "metadata": {},
      "cell_type": "markdown",
      "source": "So far we've been dealing with the concept of taking a sample from a population to infer the population parameters. One statistic we calculated for a sample was the mean. As our samples will be expected to vary from one draw to another, so will our sample statistics. If we were to perform repeat draws of size $n$ and calculate the mean of each, we would expect to obtain a distribution of values. This is the sampling distribution of the mean. The Central Limit Theorem (CLT) tells us that such a distribution will approach a normal distribution as $n$ increases. For the sampling distribution of the mean, the standard deviation of this distribution is given by\n\n\\begin{equation}\n\\sigma_{mean} = \\frac{\\sigma}{\\sqrt n}\n\\end{equation}\n\nwhere $\\sigma_{mean}$ is the standard deviation of the sampling distribution of the mean and $\\sigma$ is the standard deviation of the population (the population parameter)."
    },
    {
      "metadata": {},
      "cell_type": "markdown",
      "source": "This is important because typically we are dealing with samples from populations and all we know about the population is what we see in the sample. From this sample, we want to make inferences about the population. We may do this, for example, by looking at the histogram of the values and by calculating the mean and standard deviation (as estimates of the population parameters), and so we are intrinsically interested in how these quantities vary across samples. In other words, now that we've taken one sample of size $n$ and made some claims about the general population, what if we were to take another sample of size $n$? Would we get the same result? Would we make the same claims about the general population? This brings us to a fundamental question: _when we make some inference about a population based on our sample, how confident can we be that we've got it 'right'?_"
    },
    {
      "metadata": {},
      "cell_type": "markdown",
      "source": "Let's give our normal distribution a little flavor. Also, for didactic purposes, the standard normal distribution, with its variance equal to its standard deviation of one, would not be a great illustration of a key point. Let us imagine we live in a town of 50000 people and we know the height of everyone in this town. We will have 50000 numbers that tell us everything about our population. We'll simulate these numbers now and put ourselves in one particular town, called 'town 47', where the population mean height is 172 cm and population standard deviation is 5 cm."
    },
    {
      "metadata": {
        "trusted": true
      },
      "cell_type": "code",
      "source": "seed(47)\npop_heights = norm.rvs(172, 5, size=50000)",
      "execution_count": 73,
      "outputs": []
    },
    {
      "metadata": {
        "trusted": true
      },
      "cell_type": "code",
      "source": "_ = plt.hist(pop_heights, bins=30)\n_ = plt.xlabel('height (cm)')\n_ = plt.ylabel('number of people')\n_ = plt.title('Distribution of heights in entire town population')\n_ = plt.axvline(172, color='r')\n_ = plt.axvline(172+5, color='r', linestyle='--')\n_ = plt.axvline(172-5, color='r', linestyle='--')\n_ = plt.axvline(172+10, color='r', linestyle='-.')\n_ = plt.axvline(172-10, color='r', linestyle='-.')",
      "execution_count": 74,
      "outputs": [
        {
          "output_type": "display_data",
          "data": {
            "image/png": "[encoded data removed]",
            "text/plain": "<matplotlib.figure.Figure at 0x7f5527a68748>"
          },
          "metadata": {}
        }
      ]
    },
    {
      "metadata": {},
      "cell_type": "markdown",
      "source": "Now, 50000 people is rather a lot to chase after with a tape measure. If all you want to know is the average height of the townsfolk, then can you just go out and measure a sample to get a pretty good estimate of the average height?"
    },
    {
      "metadata": {
        "trusted": true
      },
      "cell_type": "code",
      "source": "def townsfolk_sampler(n):\n    return np.random.choice(pop_heights, n)",
      "execution_count": 75,
      "outputs": []
    },
    {
      "metadata": {},
      "cell_type": "markdown",
      "source": "Let's say you go out one day and randomly sample 10 people to measure."
    },
    {
      "metadata": {
        "trusted": true
      },
      "cell_type": "code",
      "source": "seed(47)\ndaily_sample1 = townsfolk_sampler(10)",
      "execution_count": 76,
      "outputs": []
    },
    {
      "metadata": {
        "trusted": true
      },
      "cell_type": "code",
      "source": "_ = plt.hist(daily_sample1, bins=10)\n_ = plt.xlabel('height (cm)')\n_ = plt.ylabel('number of people')\n_ = plt.title('Distribution of heights in sample size 10')",
      "execution_count": 77,
      "outputs": [
        {
          "output_type": "display_data",
          "data": {
            "image/png": "[encoded data removed]",
            "text/plain": "<matplotlib.figure.Figure at 0x7f5527a56be0>"
          },
          "metadata": {}
        }
      ]
    },
    {
      "metadata": {},
      "cell_type": "markdown",
      "source": "The sample distribution doesn't look much like what we know (but wouldn't know in real-life) the population distribution looks like. What do we get for the mean?"
    },
    {
      "metadata": {
        "trusted": true
      },
      "cell_type": "code",
      "source": "np.mean(daily_sample1)",
      "execution_count": 78,
      "outputs": [
        {
          "output_type": "execute_result",
          "execution_count": 78,
          "data": {
            "text/plain": "173.47911444163503"
          },
          "metadata": {}
        }
      ]
    },
    {
      "metadata": {},
      "cell_type": "markdown",
      "source": "And if we went out and repeated this experiment?"
    },
    {
      "metadata": {
        "trusted": true
      },
      "cell_type": "code",
      "source": "daily_sample2 = townsfolk_sampler(10)",
      "execution_count": 79,
      "outputs": []
    },
    {
      "metadata": {
        "trusted": true
      },
      "cell_type": "code",
      "source": "np.mean(daily_sample2)",
      "execution_count": 80,
      "outputs": [
        {
          "output_type": "execute_result",
          "execution_count": 80,
          "data": {
            "text/plain": "173.7317666636263"
          },
          "metadata": {}
        }
      ]
    },
    {
      "metadata": {},
      "cell_type": "markdown",
      "source": "__Q:__ Simulate performing this random trial every day for a year, calculating the mean of each daily sample of 10, and plot the resultant sampling distribution of the mean."
    },
    {
      "metadata": {},
      "cell_type": "markdown",
      "source": "__A:__"
    },
    {
      "metadata": {
        "trusted": true
      },
      "cell_type": "code",
      "source": "seed(47)\n# take your samples here; sample 365 times\nallmeans = []\nfor i in range(365):\n    sample = townsfolk_sampler(10)\n    allmeans.append(np.mean(sample))",
      "execution_count": 81,
      "outputs": []
    },
    {
      "metadata": {
        "trusted": true
      },
      "cell_type": "code",
      "source": "_ = plt.hist(allmeans, bins=30)\n_ = plt.xlabel('mean height (cm)')\n_ = plt.ylabel('number of days')\n_ = plt.title('Distribution of mean heights sampled every day of the year')",
      "execution_count": 82,
      "outputs": [
        {
          "output_type": "display_data",
          "data": {
            "image/png": "[encoded data removed]",
            "text/plain": "<matplotlib.figure.Figure at 0x7f5527763358>"
          },
          "metadata": {}
        }
      ]
    },
    {
      "metadata": {},
      "cell_type": "markdown",
      "source": "The above is the distribution of the means of samples of size 10 taken from our population. The Central Limit Theorem tells us the expected mean of this distribution will be equal to the population mean, and standard deviation will be $\\sigma / \\sqrt n$, which, in this case, should be approximately 1.58."
    },
    {
      "metadata": {},
      "cell_type": "markdown",
      "source": "__Q:__ Verify the above results from the CLT."
    },
    {
      "metadata": {},
      "cell_type": "markdown",
      "source": "__A:__"
    },
    {
      "metadata": {
        "trusted": true
      },
      "cell_type": "code",
      "source": "print(np.mean(allmeans))",
      "execution_count": 83,
      "outputs": [
        {
          "output_type": "stream",
          "text": "171.8660049358649\n",
          "name": "stdout"
        }
      ]
    },
    {
      "metadata": {
        "trusted": true
      },
      "cell_type": "code",
      "source": "print(np.std(allmeans))",
      "execution_count": 84,
      "outputs": [
        {
          "output_type": "stream",
          "text": "1.5756704135286475\n",
          "name": "stdout"
        }
      ]
    },
    {
      "metadata": {},
      "cell_type": "markdown",
      "source": "Remember, in this instance, we knew our population parameters, that the average height really is 172 cm and the standard deviation is 5 cm, and we see some of our daily estimates of the population mean were as low as around 168 and some as high as 176."
    },
    {
      "metadata": {},
      "cell_type": "markdown",
      "source": "__Q:__ Repeat the above year's worth of samples but for a sample size of 50 (perhaps you had a bigger budget for conducting surveys that year!) Would you expect your distribution of sample means to be wider (more variable) or narrower (more consistent)? Compare your resultant summary statistics to those predicted by the CLT."
    },
    {
      "metadata": {},
      "cell_type": "markdown",
      "source": "__A:__ I would expect the distribution of sample means to be narrower and more consistent because you are getting a bigger and better sample of the population. "
    },
    {
      "metadata": {
        "trusted": true
      },
      "cell_type": "code",
      "source": "seed(47)\n# calculate daily means from the larger sample size here\nallmeans = []\nfor i in range(365):\n    sample = townsfolk_sampler(50)\n    allmeans.append(np.mean(sample))\n    ",
      "execution_count": 85,
      "outputs": []
    },
    {
      "metadata": {
        "trusted": true
      },
      "cell_type": "code",
      "source": "print(np.mean(allmeans))\nprint(np.std(allmeans))",
      "execution_count": 86,
      "outputs": [
        {
          "output_type": "stream",
          "text": "171.94366080916114\n0.6736107539771146\n",
          "name": "stdout"
        }
      ]
    },
    {
      "metadata": {},
      "cell_type": "markdown",
      "source": "What we've seen so far, then, is that we can estimate population parameters from a sample from the population, and that samples have their own distributions. Furthermore, the larger the sample size, the narrower are those sampling distributions."
    },
    {
      "metadata": {},
      "cell_type": "markdown",
      "source": "### III Normally testing times!"
    },
    {
      "metadata": {},
      "cell_type": "markdown",
      "source": "All of the above is well and good. We've been sampling from a population we know is normally distributed, we've come to understand when to use $n$ and when to use $n-1$ in the denominator to calculate the spread of a distribution, and we've  seen the Central Limit Theorem in action for a sampling distribution. All seems very well behaved in Frequentist land. But, well, why should we really care?"
    },
    {
      "metadata": {},
      "cell_type": "markdown",
      "source": "Remember, we rarely (if ever) actually know our population parameters but you still have to estimate them somehow. If we want to make inferences such as \"is this observation unusual?\" or \"has my population mean changed?\" then you need to have some idea of what the underlying distribution is so you can calculate relevant probabilities. In frequentist inference, you use the formulas above to deduce these population parameters. Take a moment in the next part of this assignment to refresh your understanding of how these probabilities work."
    },
    {
      "metadata": {},
      "cell_type": "markdown",
      "source": "Recall some basic properties of the standard Normal distribution, such as about 68% of observations being within plus or minus 1 standard deviation of the mean.\n\n__Q:__ Using this fact, calculate the probability of observing the value 1 or less in a single observation from the standard normal distribution. Hint: you may find it helpful to sketch the standard normal distribution (the familiar bell shape) and mark the number of standard deviations from the mean on the x-axis and shade the regions of the curve that contain certain percentages of the population."
    },
    {
      "metadata": {},
      "cell_type": "markdown",
      "source": "__A:__ 0.5 + .34 = 0.84"
    },
    {
      "metadata": {},
      "cell_type": "markdown",
      "source": "Calculating this probability involved calculating the area under the pdf from the value of 1 and below. To put it another way, we need to integrate the pdf. We could just add together the known areas of chunks (from -Inf to 0 and then 0 to $+\\sigma$ in the example above. One way to do this is using look up tables (literally). Fortunately, scipy has this functionality built in with the cdf() function."
    },
    {
      "metadata": {},
      "cell_type": "markdown",
      "source": "__Q:__ Use the cdf() function to answer the question above again and verify you get the same answer."
    },
    {
      "metadata": {},
      "cell_type": "markdown",
      "source": "__A:__"
    },
    {
      "metadata": {
        "trusted": true
      },
      "cell_type": "code",
      "source": "norm.cdf?\n\nnorm.cdf(1)",
      "execution_count": 87,
      "outputs": [
        {
          "output_type": "execute_result",
          "execution_count": 87,
          "data": {
            "text/plain": "0.8413447460685429"
          },
          "metadata": {}
        }
      ]
    },
    {
      "metadata": {},
      "cell_type": "markdown",
      "source": "__Q:__ Using our knowledge of the population parameters for our townsfolk's heights, what is the probability of selecting one person at random and their height being 177 cm or less? Calculate this using both of the approaches given above."
    },
    {
      "metadata": {},
      "cell_type": "markdown",
      "source": "__A:__"
    },
    {
      "metadata": {
        "trusted": true
      },
      "cell_type": "code",
      "source": "# approach 1\nx = (177 - 172) / 5\nprint(x)\n\n# 177 is 1 standard deviation above the mean height, so therefore the probability of selecting one person at random and their height being 177 cm or \n# less is 0.5 + 0.34 = 0.84.\n\n# approach 2\nnorm.cdf(x)",
      "execution_count": 88,
      "outputs": [
        {
          "output_type": "stream",
          "text": "1.0\n",
          "name": "stdout"
        },
        {
          "output_type": "execute_result",
          "execution_count": 88,
          "data": {
            "text/plain": "0.8413447460685429"
          },
          "metadata": {}
        }
      ]
    },
    {
      "metadata": {},
      "cell_type": "markdown",
      "source": "__Q:__ Turning this question around. Let's say we randomly pick one person and measure their height and find they are 2.00 m tall? How surprised should we be at this result, given what we know about the population distribution? In other words, how likely would it be to obtain a value at least as extreme as this? Express this as a probability."
    },
    {
      "metadata": {},
      "cell_type": "markdown",
      "source": "__A:__"
    },
    {
      "metadata": {
        "trusted": true
      },
      "cell_type": "code",
      "source": "x = (200 - 172) / 5\nprint(x)\n### 200 cm is 5.6 standard deviations above the mean height. You should be very surprised at the result because it over \n### 5 standard deviations from the mean. It is not likely at all.\n\n# to get a value greater than or equal to 200 cm\nprint(1 - norm.cdf(x))\n\n### The probability is close to zero, 1.07e-08",
      "execution_count": 89,
      "outputs": [
        {
          "output_type": "stream",
          "text": "5.6\n1.0717590259723409e-08\n",
          "name": "stdout"
        }
      ]
    },
    {
      "metadata": {},
      "cell_type": "markdown",
      "source": "We could calculate this probability by virtue of knowing the population parameters. We were then able to use the known properties of the relevant normal distribution to calculate the probability of observing a value at least as extreme as our test value. We have essentially just performed a z-test (albeit without having prespecified a threshold for our \"level of surprise\")!"
    },
    {
      "metadata": {},
      "cell_type": "markdown",
      "source": "We're about to come to a pinch, though here. We've said a couple of times that we rarely, if ever, know the true population parameters; we have to estimate them from our sample and we cannot even begin to estimate the standard deviation from a single observation. This is very true and usually we have sample sizes larger than one. This means we can calculate the mean of the sample as our best estimate of the population mean and the standard deviation as our best estimate of the population standard deviation. In other words, we are now coming to deal with the sampling distributions we mentioned above as we are generally concerned with the properties of the sample means we obtain.\n\nAbove, we highlighted one result from the CLT, whereby the sampling distribution (of the mean) becomes narrower and narrower with the square root of the sample size. We remind ourselves that another result from the CLT is that _even if the underlying population distribution is not normal, the sampling distribution will tend to become normal with sufficiently large sample size_. This is the key driver for us 'requiring' a certain sample size, for example you may frequently see a minimum sample size of 30 stated in many places. In reality this is simply a rule of thumb; if the underlying distribution is approximately normal then your sampling distribution will already be pretty normal, but if the underlying distribution is heavily skewed then you'd want to increase your sample size."
    },
    {
      "metadata": {},
      "cell_type": "markdown",
      "source": "__Q:__ Let's now start from the position of knowing nothing about the heights of people in our town.\n* Use our favorite random seed of 47, to randomly sample the heights of 50 townsfolk\n* Estimate the population mean using np.mean\n* Estimate the population standard deviation using np.std (remember which denominator to use!)\n* Calculate the (95%) [margin of error](https://www.statisticshowto.datasciencecentral.com/probability-and-statistics/hypothesis-testing/margin-of-error/#WhatMofE) (use the exact critial z value to 2 decimal places - [look this up](https://www.statisticshowto.datasciencecentral.com/probability-and-statistics/find-critical-values/) or use norm.ppf())\n* Calculate the 95% Confidence Interval of the mean\n* Does this interval include the true population mean?"
    },
    {
      "metadata": {},
      "cell_type": "markdown",
      "source": "__A:__ Yes, the 95% confidence interval does include the true population mean."
    },
    {
      "metadata": {
        "trusted": true
      },
      "cell_type": "code",
      "source": "seed(47)\n# take your sample now\nsample = townsfolk_sampler(50)\n\n# Estimate the population mean using np.mean\nsample_mean = np.mean(sample)\nsample_mean",
      "execution_count": 90,
      "outputs": [
        {
          "output_type": "execute_result",
          "execution_count": 90,
          "data": {
            "text/plain": "172.7815108576788"
          },
          "metadata": {}
        }
      ]
    },
    {
      "metadata": {
        "trusted": true
      },
      "cell_type": "code",
      "source": "# Estimate the population standard deviation using np.std (remember which denominator to use!)\nsample_sd = np.std(sample, ddof=1)\nsample_sd",
      "execution_count": 91,
      "outputs": [
        {
          "output_type": "execute_result",
          "execution_count": 91,
          "data": {
            "text/plain": "4.195424364433547"
          },
          "metadata": {}
        }
      ]
    },
    {
      "metadata": {
        "trusted": true,
        "scrolled": false
      },
      "cell_type": "code",
      "source": "# Calculate the 95% margin of error\n# To find the critical value for 95% MOE, we know there is 5% under both tails, 2.5% under each tail is proability = 0.025.\n# To get the right critical value: 1-0.025 = 0.975\n\n# Critical z-value is about 1.96\nz = norm.ppf(0.975)\n\n# 95% MOE\nMOE = z * (sample_sd / np.sqrt(50))\nMOE\n",
      "execution_count": 92,
      "outputs": [
        {
          "output_type": "execute_result",
          "execution_count": 92,
          "data": {
            "text/plain": "1.1628909342876539"
          },
          "metadata": {}
        }
      ]
    },
    {
      "metadata": {
        "trusted": true
      },
      "cell_type": "code",
      "source": "# Therefore the 95% confidence interval is:\nprint(sample_mean - MOE, sample_mean + MOE)",
      "execution_count": 93,
      "outputs": [
        {
          "output_type": "stream",
          "text": "171.61861992339115 173.94440179196644\n",
          "name": "stdout"
        }
      ]
    },
    {
      "metadata": {},
      "cell_type": "markdown",
      "source": "__Q:__ Above we calculated the confidence interval using the critical z value. What is the problem with this? What requirement, or requirements, are we (strictly) failing?"
    },
    {
      "metadata": {},
      "cell_type": "markdown",
      "source": "__A:__ The problem with using a critical z value in this case is that we don't actually know the population mean and standard deviation. We should have used a t-score since we don't know the true standard deviation of the population."
    },
    {
      "metadata": {},
      "cell_type": "markdown",
      "source": "__Q:__ Calculate the 95% confidence interval for the mean using the _t_ distribution. Is this wider or narrower than that based on the normal distribution above? If you're unsure, you may find this [resource](https://www.statisticshowto.datasciencecentral.com/probability-and-statistics/confidence-interval/) useful. For calculating the critical value, remember how you could calculate this for the normal distribution using norm.ppf()."
    },
    {
      "metadata": {},
      "cell_type": "markdown",
      "source": "__A:__  The t-distribution is a little wider than the normal distribution."
    },
    {
      "metadata": {
        "trusted": true
      },
      "cell_type": "code",
      "source": "# Calculate t-score\n\nt_val = t.ppf(1-.025, df=49)\nt_val",
      "execution_count": 94,
      "outputs": [
        {
          "output_type": "execute_result",
          "execution_count": 94,
          "data": {
            "text/plain": "2.009575234489209"
          },
          "metadata": {}
        }
      ]
    },
    {
      "metadata": {
        "trusted": true
      },
      "cell_type": "code",
      "source": "\nSE = sample_sd / np.sqrt(50)\nMOE_t = t_val * SE\nprint('The 95% confidence interval using a t-distribution is ', sample_mean - MOE_t, sample_mean + MOE_t)",
      "execution_count": 95,
      "outputs": [
        {
          "output_type": "stream",
          "text": "The 95% confidence interval using a t-distribution is  171.589184447403 173.9738372679546\n",
          "name": "stdout"
        }
      ]
    },
    {
      "metadata": {},
      "cell_type": "markdown",
      "source": "This is slightly wider than the previous confidence interval. This reflects the greater uncertainty given that we are estimating population parameters from a sample."
    },
    {
      "metadata": {},
      "cell_type": "markdown",
      "source": "## Learning outcomes"
    },
    {
      "metadata": {},
      "cell_type": "markdown",
      "source": "Having completed this project notebook, you now have hands-on experience:\n* sampling and calculating probabilities from a normal distribution\n* the correct way to estimate the standard deviation of a population (the population parameter) from a sample\n* what a sampling distribution is and how the Central Limit Theorem applies\n* how to calculate critical values and confidence intervals"
    }
  ],
  "metadata": {
    "kernelspec": {
      "name": "python3",
      "display_name": "Python 3",
      "language": "python"
    },
    "language_info": {
      "mimetype": "text/x-python",
      "nbconvert_exporter": "python",
      "name": "python",
      "file_extension": ".py",
      "version": "3.5.4",
      "pygments_lexer": "ipython3",
      "codemirror_mode": {
        "version": 3,
        "name": "ipython"
      }
    }
  },
  "nbformat": 4,
  "nbformat_minor": 2
}