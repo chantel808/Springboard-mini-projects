{
  "cells": [
    {
      "metadata": {},
      "cell_type": "markdown",
      "source": "# Inferential Statistics Ib - Frequentism\n\n## Completed by Chantel Clark"
    },
    {
      "metadata": {},
      "cell_type": "markdown",
      "source": "## Learning objectives"
    },
    {
      "metadata": {},
      "cell_type": "markdown",
      "source": "Welcome to the second Frequentist inference mini-project! Over the course of working on this mini-project and the previous frequentist mini-project, you'll learn the fundamental concepts associated with frequentist inference. The following list includes the topics you will become familiar with as you work through these two mini-projects:\n* the _z_-statistic\n* the _t_-statistic\n* the difference and relationship between the two\n* the Central Limit Theorem, its assumptions and consequences\n* how to estimate the population mean and standard deviation from a sample\n* the concept of a sampling distribution of a test statistic, particularly for the mean\n* how to combine these concepts to calculate confidence intervals and p-values\n* how those confidence intervals and p-values allow you to perform hypothesis (or A/B) tests"
    },
    {
      "metadata": {},
      "cell_type": "markdown",
      "source": "## Prerequisites"
    },
    {
      "metadata": {},
      "cell_type": "markdown",
      "source": "* what a random variable is\n* what a probability density function (pdf) is\n* what the cumulative density function is\n* a high-level sense of what the Normal distribution\n\nIf these concepts are new to you, please take a few moments to Google these topics in order to get a sense of what they are and how you might use them.\n\nThese two notebooks were designed to bridge the gap between having a basic understanding of probability and random variables and being able to apply these concepts in Python. This second frequentist inference mini-project focuses on a real-world application of this type of inference to give you further practice using these concepts. "
    },
    {
      "metadata": {},
      "cell_type": "markdown",
      "source": "In the previous notebook, we used only data from a known normal distribution. You'll now tackle real data, rather than simulated data, and answer some relevant real-world business problems using the data."
    },
    {
      "metadata": {},
      "cell_type": "markdown",
      "source": "## Hospital medical charges"
    },
    {
      "metadata": {},
      "cell_type": "markdown",
      "source": "Imagine that a hospital has hired you as their data analyst. An administrator is working on the hospital's business operations plan and needs you to help them answer some business questions. This mini-project, as well as the bootstrap and Bayesian inference mini-projects also found in this unit are designed to illustrate how each of the inferential statistics methods have their uses for different use cases. In this assignment notebook, you're going to use frequentist statistical inference on a data sample to answer the questions:\n* has the hospital's revenue stream fallen below a key threshold?\n* are patients with insurance really charged different amounts than those without?\nAnswering that last question with a frequentist approach makes some assumptions, or requires some knowledge, about the two groups. In the next mini-project, you'll use bootstrapping to test that assumption. And in the final mini-project of the unit, you're going to create a model for simulating _individual_ charges (not a sampling distribution) that the hospital can use to model a range of scenarios."
    },
    {
      "metadata": {},
      "cell_type": "markdown",
      "source": "We are going to use some data on medical charges obtained from [Kaggle](https://www.kaggle.com/easonlai/sample-insurance-claim-prediction-dataset). For the purposes of this exercise, assume the observations are the result of random sampling from our one hospital. Recall in the previous assignment, we introduced the Central Limit Theorem (CLT), and how it tells us that the distributions of sample statistics approach a normal distribution as $n$ increases. The amazing thing about this is that it applies to the sampling distributions of statistics that have been calculated from even highly non-normal distributions of data. Remember, also, that hypothesis testing is very much based on making inferences about such sample statistics. You're going to rely heavily on the CLT to apply frequentist (parametric) tests to answer the questions in this notebook."
    },
    {
      "metadata": {
        "trusted": true
      },
      "cell_type": "code",
      "source": "import pandas as pd\nimport numpy as np\nimport matplotlib.pyplot as plt\nfrom scipy.stats import norm\nfrom scipy.stats import t\nfrom scipy.stats import ttest_ind_from_stats\nfrom numpy.random import seed\nmedical = pd.read_csv('data/insurance2.csv')",
      "execution_count": 47,
      "outputs": []
    },
    {
      "metadata": {
        "trusted": true
      },
      "cell_type": "code",
      "source": "medical.shape",
      "execution_count": 48,
      "outputs": [
        {
          "output_type": "execute_result",
          "execution_count": 48,
          "data": {
            "text/plain": "(1338, 8)"
          },
          "metadata": {}
        }
      ]
    },
    {
      "metadata": {
        "trusted": true
      },
      "cell_type": "code",
      "source": "medical.head()",
      "execution_count": 49,
      "outputs": [
        {
          "output_type": "execute_result",
          "execution_count": 49,
          "data": {
            "text/html": "<div>\n<table border=\"1\" class=\"dataframe\">\n  <thead>\n    <tr style=\"text-align: right;\">\n      <th></th>\n      <th>age</th>\n      <th>sex</th>\n      <th>bmi</th>\n      <th>children</th>\n      <th>smoker</th>\n      <th>region</th>\n      <th>charges</th>\n      <th>insuranceclaim</th>\n    </tr>\n  </thead>\n  <tbody>\n    <tr>\n      <th>0</th>\n      <td>19</td>\n      <td>0</td>\n      <td>27.900</td>\n      <td>0</td>\n      <td>1</td>\n      <td>3</td>\n      <td>16884.92400</td>\n      <td>1</td>\n    </tr>\n    <tr>\n      <th>1</th>\n      <td>18</td>\n      <td>1</td>\n      <td>33.770</td>\n      <td>1</td>\n      <td>0</td>\n      <td>2</td>\n      <td>1725.55230</td>\n      <td>1</td>\n    </tr>\n    <tr>\n      <th>2</th>\n      <td>28</td>\n      <td>1</td>\n      <td>33.000</td>\n      <td>3</td>\n      <td>0</td>\n      <td>2</td>\n      <td>4449.46200</td>\n      <td>0</td>\n    </tr>\n    <tr>\n      <th>3</th>\n      <td>33</td>\n      <td>1</td>\n      <td>22.705</td>\n      <td>0</td>\n      <td>0</td>\n      <td>1</td>\n      <td>21984.47061</td>\n      <td>0</td>\n    </tr>\n    <tr>\n      <th>4</th>\n      <td>32</td>\n      <td>1</td>\n      <td>28.880</td>\n      <td>0</td>\n      <td>0</td>\n      <td>1</td>\n      <td>3866.85520</td>\n      <td>1</td>\n    </tr>\n  </tbody>\n</table>\n</div>",
            "text/plain": "   age  sex     bmi  children  smoker  region      charges  insuranceclaim\n0   19    0  27.900         0       1       3  16884.92400               1\n1   18    1  33.770         1       0       2   1725.55230               1\n2   28    1  33.000         3       0       2   4449.46200               0\n3   33    1  22.705         0       0       1  21984.47061               0\n4   32    1  28.880         0       0       1   3866.85520               1"
          },
          "metadata": {}
        }
      ]
    },
    {
      "metadata": {},
      "cell_type": "markdown",
      "source": "__Q:__ Plot the histogram of charges and calculate the mean and standard deviation. Comment on the appropriateness of these statistics for the data."
    },
    {
      "metadata": {},
      "cell_type": "markdown",
      "source": "__A:__ There is a long right tail for this data, so the mean charge is going to be greater than the median because the mean will increase due to the larger values. The standard deviation is also going to be large because the data does not look normally distributed."
    },
    {
      "metadata": {
        "trusted": true,
        "scrolled": true
      },
      "cell_type": "code",
      "source": "_=plt.hist(medical.charges, bins=30, normed=True)\n_=plt.xlabel('Medical charges')\n_=plt.ylabel('Occurences')\n_=plt.title('Medical charges')",
      "execution_count": 50,
      "outputs": [
        {
          "output_type": "display_data",
          "data": {
            "image/png": "[encoded data removed]",
            "text/plain": "<matplotlib.figure.Figure at 0x7f71082e56a0>"
          },
          "metadata": {}
        }
      ]
    },
    {
      "metadata": {
        "trusted": true
      },
      "cell_type": "code",
      "source": "sample_mean = round(np.mean(medical.charges),2)\nsample_sd = round(np.std(medical.charges),2)\n\nprint('The mean medical charge is $', sample_mean)\nprint('The standard deviation of medical charges is $', sample_sd)\n",
      "execution_count": 51,
      "outputs": [
        {
          "output_type": "stream",
          "text": "The mean medical charge is $ 13270.42\nThe standard deviation of medical charges is $ 12105.48\n",
          "name": "stdout"
        }
      ]
    },
    {
      "metadata": {},
      "cell_type": "markdown",
      "source": "__Q:__ The administrator is concerned that the actual average charge has fallen below 12000, threatening the hospital's operational model. On the assumption that these data represent a random sample of charges, how would you justify that these data allow you to answer that question? And what would be the most appropriate frequentist test, of the ones discussed so far, to apply?"
    },
    {
      "metadata": {},
      "cell_type": "markdown",
      "source": "__A:__  We have 1338 entries to analyze but the distribution is skewed. We could either log transform the data kand perform a t-test or use bootstrapping to resample and estimate the uncertainty of the mean."
    },
    {
      "metadata": {},
      "cell_type": "markdown",
      "source": "__Q:__ Given the nature of the administrator's concern, what is the appropriate confidence interval in this case? A one-sided or two-sided interval? Calculate the critical value and the relevant 95% confidence interval for the mean and comment on whether the administrator should be concerned?"
    },
    {
      "metadata": {},
      "cell_type": "markdown",
      "source": "__A:__  A one-sided interval because the administrator is concerned that the mean medical charge is below $12000.  \n\nNull hypothesis: The mean medical charge is greater than or equal to $12000.  \n\nAlternative hypothesis: The mean medical charge is less than $12000. "
    },
    {
      "metadata": {
        "trusted": true
      },
      "cell_type": "code",
      "source": "# Take the log of the charges, since the medical charges are exponentially distributed\nlog_charges = np.log(medical.charges)\n\n_=plt.hist(log_charges, bins=30, normed=True)\n_=plt.xlabel('Medical charges (log)')\n_=plt.ylabel('Occurences')\n_=plt.title('Log of medical charges')\n",
      "execution_count": 52,
      "outputs": [
        {
          "output_type": "display_data",
          "data": {
            "image/png": "[encoded data removed]",
            "text/plain": "<matplotlib.figure.Figure at 0x7f7108260ef0>"
          },
          "metadata": {}
        }
      ]
    },
    {
      "metadata": {
        "trusted": true
      },
      "cell_type": "code",
      "source": "# Get the t-statistic\nn = len(log_charges)\ntstat = t.ppf(0.05, df= n-1)\ntstat",
      "execution_count": 53,
      "outputs": [
        {
          "output_type": "execute_result",
          "execution_count": 53,
          "data": {
            "text/plain": "-1.6459941145571324"
          },
          "metadata": {}
        }
      ]
    },
    {
      "metadata": {
        "trusted": true
      },
      "cell_type": "code",
      "source": "SE = np.std(log_charges) / np.sqrt(n) # standard error\nMOE = tstat * SE # margin of error\nlbound = np.mean(log_charges) + MOE\n\nprint('The log of the mean medical charge is ', np.mean(log_charges))\nprint('The standard error is', SE)\nprint('The margin of error is', MOE)\nprint('The lower bound of the 95% confidence interval is ', lbound)",
      "execution_count": 54,
      "outputs": [
        {
          "output_type": "stream",
          "text": "The log of the mean medical charge is  9.098658729424768\nThe standard error is 0.025128937689890322\nThe margin of error is -0.04136208354263237\nThe lower bound of the 95% confidence interval is  9.057296645882136\n",
          "name": "stdout"
        }
      ]
    },
    {
      "metadata": {
        "trusted": true
      },
      "cell_type": "code",
      "source": "# We want to know how likely it is that the mean medical charge is less than $12000\nprint('The log of 12000 is', np.log(12000))",
      "execution_count": 55,
      "outputs": [
        {
          "output_type": "stream",
          "text": "The log of 12000 is 9.392661928770137\n",
          "name": "stdout"
        }
      ]
    },
    {
      "metadata": {
        "trusted": true,
        "scrolled": true
      },
      "cell_type": "code",
      "source": "_=plt.hist(log_charges, bins=30, normed=True)\n_=plt.xlabel('Medical charges (log)')\n_=plt.ylabel('Occurences')\n_=plt.title('Log of medical charges')\n_=plt.axvline(lbound, color='orange') # lower bound of the 95% confidence interval\n_=plt.axvline(np.log(12000), color='red') ",
      "execution_count": 56,
      "outputs": [
        {
          "output_type": "display_data",
          "data": {
            "image/png": "[encoded data removed]",
            "text/plain": "<matplotlib.figure.Figure at 0x7f71082744a8>"
          },
          "metadata": {}
        }
      ]
    },
    {
      "metadata": {},
      "cell_type": "markdown",
      "source": "You can see that in the histogram above the lower bound of the 95% confidence level (in orange). The log of \\$12000 is within the confidence interval, so we fail to reject the null hypothesis and can conclude that the mean medical charge is greater than $12000."
    },
    {
      "metadata": {
        "trusted": true
      },
      "cell_type": "code",
      "source": "### Use bootstrapping of the mean to find the 95% CI since data is not normally distributed\n\nbootstrap = pd.DataFrame({'meancharge': [medical.sample(1000,replace=True).charges.mean() for i in range(1000)]})\nbootstrap.head()",
      "execution_count": 57,
      "outputs": [
        {
          "output_type": "execute_result",
          "execution_count": 57,
          "data": {
            "text/html": "<div>\n<table border=\"1\" class=\"dataframe\">\n  <thead>\n    <tr style=\"text-align: right;\">\n      <th></th>\n      <th>meancharge</th>\n    </tr>\n  </thead>\n  <tbody>\n    <tr>\n      <th>0</th>\n      <td>13024.191350</td>\n    </tr>\n    <tr>\n      <th>1</th>\n      <td>13450.005424</td>\n    </tr>\n    <tr>\n      <th>2</th>\n      <td>13566.682736</td>\n    </tr>\n    <tr>\n      <th>3</th>\n      <td>13094.476938</td>\n    </tr>\n    <tr>\n      <th>4</th>\n      <td>13604.392629</td>\n    </tr>\n  </tbody>\n</table>\n</div>",
            "text/plain": "     meancharge\n0  13024.191350\n1  13450.005424\n2  13566.682736\n3  13094.476938\n4  13604.392629"
          },
          "metadata": {}
        }
      ]
    },
    {
      "metadata": {
        "trusted": true
      },
      "cell_type": "code",
      "source": "_=plt.hist(bootstrap.meancharge, bins=30)\n_=plt.xlabel('Mean medical charges')\n_=plt.ylabel('Occurences')\n_=plt.title('Mean medical charges')",
      "execution_count": 58,
      "outputs": [
        {
          "output_type": "display_data",
          "data": {
            "image/png": "[encoded data removed]",
            "text/plain": "<matplotlib.figure.Figure at 0x7f7107f48f28>"
          },
          "metadata": {}
        }
      ]
    },
    {
      "metadata": {
        "trusted": true
      },
      "cell_type": "code",
      "source": "# Test statistic (z-score)\nzstat = norm.ppf(0.05)\nzstat",
      "execution_count": 59,
      "outputs": [
        {
          "output_type": "execute_result",
          "execution_count": 59,
          "data": {
            "text/plain": "-1.6448536269514729"
          },
          "metadata": {}
        }
      ]
    },
    {
      "metadata": {
        "trusted": true
      },
      "cell_type": "code",
      "source": "\n# Critical value from 1 tail table\n# z = -1.645\nbs_mean = np.mean(bootstrap.meancharge)\nbs_std = np.std(bootstrap.meancharge)\n\nMOE = zstat * (bs_std / np.sqrt(1338))\nprint('The margin of error is ', MOE)\nprint('The upper limit of the 95% confidence interval is $', bs_mean + MOE)",
      "execution_count": 60,
      "outputs": [
        {
          "output_type": "stream",
          "text": "The margin of error is  -17.74838990734696\nThe upper limit of the 95% confidence interval is $ 13246.027869990412\n",
          "name": "stdout"
        }
      ]
    },
    {
      "metadata": {},
      "cell_type": "markdown",
      "source": "The 95% confidence interval shows that the mean charge is likely to be above $12000."
    },
    {
      "metadata": {},
      "cell_type": "markdown",
      "source": "The administrator then wants to know whether people with insurance really are charged a different amount to those without.\n\n__Q:__ State the null and alternative hypothesis here. Use the _t_-test for the difference between means where the pooled standard deviation of the two groups is given by\n\\begin{equation}\ns_p = \\sqrt{\\frac{(n_0 - 1)s^2_0 + (n_1 - 1)s^2_1}{n_0 + n_1 - 2}}\n\\end{equation}\n\nand the *t* test statistic is then given by\n\n\\begin{equation}\nt = \\frac{\\bar{x}_0 - \\bar{x}_1}{s_p \\sqrt{1/n_0 + 1/n_1}}.\n\\end{equation}\n\nWhat assumption about the variances of the two groups are we making here?"
    },
    {
      "metadata": {},
      "cell_type": "markdown",
      "source": "__A:__ Null hypothesis: people with insurance are charged the same amount as people without insurance.  \n\nAlternative hypothesis: people with insurance are charged a different amount as people without insurance.\n\nWe are assuming that the variances for the two groups (insured and non-insured) are the same."
    },
    {
      "metadata": {},
      "cell_type": "markdown",
      "source": "__Q:__ Perform this hypothesis test both manually, using the above formulae, and then using the appropriate function from [scipy.stats](https://docs.scipy.org/doc/scipy/reference/stats.html#statistical-tests) (hint, you're looking for a function to perform a _t_-test on two independent samples). For the manual approach, calculate the value of the test statistic and then its probability (the p-value). Verify you get the same results from both."
    },
    {
      "metadata": {},
      "cell_type": "markdown",
      "source": "__A:__"
    },
    {
      "metadata": {
        "trusted": true
      },
      "cell_type": "code",
      "source": "medical.head(10)",
      "execution_count": 61,
      "outputs": [
        {
          "output_type": "execute_result",
          "execution_count": 61,
          "data": {
            "text/html": "<div>\n<table border=\"1\" class=\"dataframe\">\n  <thead>\n    <tr style=\"text-align: right;\">\n      <th></th>\n      <th>age</th>\n      <th>sex</th>\n      <th>bmi</th>\n      <th>children</th>\n      <th>smoker</th>\n      <th>region</th>\n      <th>charges</th>\n      <th>insuranceclaim</th>\n    </tr>\n  </thead>\n  <tbody>\n    <tr>\n      <th>0</th>\n      <td>19</td>\n      <td>0</td>\n      <td>27.900</td>\n      <td>0</td>\n      <td>1</td>\n      <td>3</td>\n      <td>16884.92400</td>\n      <td>1</td>\n    </tr>\n    <tr>\n      <th>1</th>\n      <td>18</td>\n      <td>1</td>\n      <td>33.770</td>\n      <td>1</td>\n      <td>0</td>\n      <td>2</td>\n      <td>1725.55230</td>\n      <td>1</td>\n    </tr>\n    <tr>\n      <th>2</th>\n      <td>28</td>\n      <td>1</td>\n      <td>33.000</td>\n      <td>3</td>\n      <td>0</td>\n      <td>2</td>\n      <td>4449.46200</td>\n      <td>0</td>\n    </tr>\n    <tr>\n      <th>3</th>\n      <td>33</td>\n      <td>1</td>\n      <td>22.705</td>\n      <td>0</td>\n      <td>0</td>\n      <td>1</td>\n      <td>21984.47061</td>\n      <td>0</td>\n    </tr>\n    <tr>\n      <th>4</th>\n      <td>32</td>\n      <td>1</td>\n      <td>28.880</td>\n      <td>0</td>\n      <td>0</td>\n      <td>1</td>\n      <td>3866.85520</td>\n      <td>1</td>\n    </tr>\n    <tr>\n      <th>5</th>\n      <td>31</td>\n      <td>0</td>\n      <td>25.740</td>\n      <td>0</td>\n      <td>0</td>\n      <td>2</td>\n      <td>3756.62160</td>\n      <td>0</td>\n    </tr>\n    <tr>\n      <th>6</th>\n      <td>46</td>\n      <td>0</td>\n      <td>33.440</td>\n      <td>1</td>\n      <td>0</td>\n      <td>2</td>\n      <td>8240.58960</td>\n      <td>1</td>\n    </tr>\n    <tr>\n      <th>7</th>\n      <td>37</td>\n      <td>0</td>\n      <td>27.740</td>\n      <td>3</td>\n      <td>0</td>\n      <td>1</td>\n      <td>7281.50560</td>\n      <td>0</td>\n    </tr>\n    <tr>\n      <th>8</th>\n      <td>37</td>\n      <td>1</td>\n      <td>29.830</td>\n      <td>2</td>\n      <td>0</td>\n      <td>0</td>\n      <td>6406.41070</td>\n      <td>0</td>\n    </tr>\n    <tr>\n      <th>9</th>\n      <td>60</td>\n      <td>0</td>\n      <td>25.840</td>\n      <td>0</td>\n      <td>0</td>\n      <td>1</td>\n      <td>28923.13692</td>\n      <td>0</td>\n    </tr>\n  </tbody>\n</table>\n</div>",
            "text/plain": "   age  sex     bmi  children  smoker  region      charges  insuranceclaim\n0   19    0  27.900         0       1       3  16884.92400               1\n1   18    1  33.770         1       0       2   1725.55230               1\n2   28    1  33.000         3       0       2   4449.46200               0\n3   33    1  22.705         0       0       1  21984.47061               0\n4   32    1  28.880         0       0       1   3866.85520               1\n5   31    0  25.740         0       0       2   3756.62160               0\n6   46    0  33.440         1       0       2   8240.58960               1\n7   37    0  27.740         3       0       1   7281.50560               0\n8   37    1  29.830         2       0       0   6406.41070               0\n9   60    0  25.840         0       0       1  28923.13692               0"
          },
          "metadata": {}
        }
      ]
    },
    {
      "metadata": {
        "trusted": true
      },
      "cell_type": "code",
      "source": "# Create a data frame of all medical charges for people with insurance\ninsured = medical[medical['insuranceclaim'] == 1].charges\nn1 = len(insured) # number of claims with insurance\nm1 = np.mean(insured) # mean\nsd1 = np.std(insured) # standard deviation\nprint('The mean medical charge for people with insurance is $', round(m1,2))",
      "execution_count": 62,
      "outputs": [
        {
          "output_type": "stream",
          "text": "The mean medical charge for people with insurance is $ 16423.93\n",
          "name": "stdout"
        }
      ]
    },
    {
      "metadata": {
        "trusted": true
      },
      "cell_type": "code",
      "source": "# Create a data frame of all medical charges for people without insurance\nn_insured = medical[medical['insuranceclaim'] == 0].charges\nn0 = len(n_insured) #number of charges without insurance\nm0 = np.mean(n_insured)\nsd0 = np.std(n_insured)\nprint('The mean medical charge for people without insurance is $', round(m0,2))",
      "execution_count": 63,
      "outputs": [
        {
          "output_type": "stream",
          "text": "The mean medical charge for people without insurance is $ 8821.42\n",
          "name": "stdout"
        }
      ]
    },
    {
      "metadata": {
        "trusted": true
      },
      "cell_type": "code",
      "source": "print('The total number of charges to people with insurance is', n1)\nprint('The total number of charges to people without insurance is', n0)",
      "execution_count": 64,
      "outputs": [
        {
          "output_type": "stream",
          "text": "The total number of charges to people with insurance is 783\nThe total number of charges to people without insurance is 555\n",
          "name": "stdout"
        }
      ]
    },
    {
      "metadata": {
        "trusted": true
      },
      "cell_type": "code",
      "source": "sd_p = np.sqrt(((n0-1) * sd0 ** 2 + (n1-1) * sd1 ** 2)/(n0 + n1 - 2))\nprint('The pooled standard deviation is', sd_p)",
      "execution_count": 65,
      "outputs": [
        {
          "output_type": "stream",
          "text": "The pooled standard deviation is 11512.282899205744\n",
          "name": "stdout"
        }
      ]
    },
    {
      "metadata": {
        "trusted": true
      },
      "cell_type": "code",
      "source": "# T-statistic\ntstat = (m0 - m1)/(sd_p * np.sqrt(1/n0 + 1/n1))\ntstat",
      "execution_count": 66,
      "outputs": [
        {
          "output_type": "execute_result",
          "execution_count": 66,
          "data": {
            "text/plain": "-11.901306943555385"
          },
          "metadata": {}
        }
      ]
    },
    {
      "metadata": {
        "trusted": true
      },
      "cell_type": "code",
      "source": "# Probability of t-statistic: pval\npval = t.cdf(-11.901306943555385, df=n0+n1-2) * 2\npval",
      "execution_count": 67,
      "outputs": [
        {
          "output_type": "execute_result",
          "execution_count": 67,
          "data": {
            "text/plain": "4.090550214373795e-31"
          },
          "metadata": {}
        }
      ]
    },
    {
      "metadata": {
        "trusted": true
      },
      "cell_type": "code",
      "source": "# from scipy.stats import ttest_ind_from_stats\n\nttest_ind_from_stats(m0, sd0, n0, m1, sd1, n1)",
      "execution_count": 68,
      "outputs": [
        {
          "output_type": "execute_result",
          "execution_count": 68,
          "data": {
            "text/plain": "Ttest_indResult(statistic=-11.901306943555387, pvalue=4.090550214373679e-31)"
          },
          "metadata": {}
        }
      ]
    },
    {
      "metadata": {},
      "cell_type": "markdown",
      "source": "Congratulations! Hopefully you got the exact same numerical results. This shows that you correctly calculated the numbers by hand. Secondly, you used the correct function and saw that it's much easier to use. All you need to do pass your data to it."
    },
    {
      "metadata": {},
      "cell_type": "markdown",
      "source": "__Q:__ In the above calculations, we assumed the sample variances were equal. We may well suspect they are not (we'll explore this in another assignment). The calculation becomes a little more complicated to do by hand in this case, but we now know of a helpful function. Check the documentation for the function to tell it not to assume equal variances and perform the test again."
    },
    {
      "metadata": {},
      "cell_type": "markdown",
      "source": "__A:__"
    },
    {
      "metadata": {
        "trusted": true
      },
      "cell_type": "code",
      "source": "ttest_ind_from_stats(m0, sd0, n0, m1, sd1, n1, equal_var=False)",
      "execution_count": 69,
      "outputs": [
        {
          "output_type": "execute_result",
          "execution_count": 69,
          "data": {
            "text/plain": "Ttest_indResult(statistic=-13.307332624349796, pvalue=9.974516564429595e-38)"
          },
          "metadata": {}
        }
      ]
    },
    {
      "metadata": {},
      "cell_type": "markdown",
      "source": "__Q:__ Conceptual question: look through the documentation for statistical test functions in scipy.stats. You'll see the above _t_-test for a sample, but can you see an equivalent one for performing a *z*-test from a sample? Comment on your answer."
    },
    {
      "metadata": {},
      "cell_type": "markdown",
      "source": "__A:__  The scipy.stats.zscore method will take in an array, and output the z-score for each number in the array based off of the sample mean and standard deviation. This is different from the ttest_ind_from_stats method, which takes input arguments of the sample mean, sample standard deviation, and sample size."
    },
    {
      "metadata": {
        "trusted": true
      },
      "cell_type": "code",
      "source": "# from scipy.stats import zscore",
      "execution_count": 70,
      "outputs": []
    },
    {
      "metadata": {},
      "cell_type": "markdown",
      "source": "## Learning outcomes"
    },
    {
      "metadata": {},
      "cell_type": "markdown",
      "source": "Having completed this project notebook, you now have good hands-on experience:\n* using the central limit theorem to help you apply frequentist techniques to answer questions that pertain to very non-normally distributed data from the real world\n* performing inference using such data to answer business questions\n* forming a hypothesis and framing the null and alternative hypotheses\n* testing this using a _t_-test"
    }
  ],
  "metadata": {
    "kernelspec": {
      "name": "python3",
      "display_name": "Python 3",
      "language": "python"
    },
    "language_info": {
      "mimetype": "text/x-python",
      "nbconvert_exporter": "python",
      "name": "python",
      "file_extension": ".py",
      "version": "3.5.4",
      "pygments_lexer": "ipython3",
      "codemirror_mode": {
        "version": 3,
        "name": "ipython"
      }
    }
  },
  "nbformat": 4,
  "nbformat_minor": 2
}
