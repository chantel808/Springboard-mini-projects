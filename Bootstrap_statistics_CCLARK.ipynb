{
  "cells": [
    {
      "metadata": {},
      "cell_type": "markdown",
      "source": "# Inferential statistics II - Bootstrapping"
    },
    {
      "metadata": {},
      "cell_type": "markdown",
      "source": "## Introduction"
    },
    {
      "metadata": {},
      "cell_type": "markdown",
      "source": "In the previous frequentist mini-projects, you did frequentist calculations to perform inference from a sample of data. Such inference relies on theory largely developed from the 19th-Century onwards that is subject to certain assumptions or theoretical limits. These are fine if those assumptions hold for the particular case you're working on, and what you want to do has a known theoretical distribution (for example the mean of a sampling distribution that we looked at in the previous mini-project.)"
    },
    {
      "metadata": {},
      "cell_type": "markdown",
      "source": "In this mini-project, you'll use the same medical charge data you used in the frequentist inference mini-project, but this time you'll make inferences about the population using bootstrapping (ie. simulating repeated re-runs of an experiment.) If frequentism is about using assumptions and theoretical results to calculate what we expect to happen were an experiment to be run again and again and again, then bootstrapping is about using computing power to essentially re-run the sample draw again and again and again to see what actually happens."
    },
    {
      "metadata": {},
      "cell_type": "markdown",
      "source": "## Prerequisites"
    },
    {
      "metadata": {},
      "cell_type": "markdown",
      "source": "While these exercises do not strictly depend on these concepts, we encourage you to complete the previous mini-projects before starting this one so that you can approach this assignment with a good understanding of frequentist concepts like:\n* the _z_-statistic\n* the _t_-statistic\n* the difference and relationship between the two\n* the Central Limit Theorem, its assumptions and consequences\n* how to estimate the population mean and standard deviation from a sample\n* the concept of a sampling distribution of a test statistic, particularly for the mean\n* how to combine these concepts to calculate confidence intervals and p-values\n* how those confidence intervals and p-values allow you to perform hypothesis (or A/B) tests"
    },
    {
      "metadata": {},
      "cell_type": "markdown",
      "source": "# Central Limit Theorem\n\n# Estimate population mean and standard deviation from sample\n"
    },
    {
      "metadata": {},
      "cell_type": "markdown",
      "source": "To complete mini-project, it's important that you first complete the bootstrap resources listed in this subunit, as they contain valuable information about how to calculate bootstrap replicates of summary statistics. Having an basic understanding of what confidence intervals and p-values are will also be helpful (we touch on them in this mini-project, but please speak to your mentor or conduct individual research if you'd like to learn more.) "
    },
    {
      "metadata": {
        "trusted": true
      },
      "cell_type": "code",
      "source": "import pandas as pd\nimport numpy as np\nfrom numpy.random import seed\nimport matplotlib.pyplot as plt",
      "execution_count": 2,
      "outputs": [
        {
          "output_type": "stream",
          "text": "/home/nbuser/anaconda3_420/lib/python3.5/site-packages/matplotlib/font_manager.py:281: UserWarning: Matplotlib is building the font cache using fc-list. This may take a moment.\n  'Matplotlib is building the font cache using fc-list. '\n",
          "name": "stderr"
        }
      ]
    },
    {
      "metadata": {},
      "cell_type": "markdown",
      "source": "## Medical charge data set"
    },
    {
      "metadata": {
        "trusted": true
      },
      "cell_type": "code",
      "source": "med_charges = pd.read_csv('data/insurance2.csv')",
      "execution_count": 3,
      "outputs": []
    },
    {
      "metadata": {
        "trusted": true
      },
      "cell_type": "code",
      "source": "med_charges.head()",
      "execution_count": 4,
      "outputs": [
        {
          "output_type": "execute_result",
          "execution_count": 4,
          "data": {
            "text/html": "<div>\n<table border=\"1\" class=\"dataframe\">\n  <thead>\n    <tr style=\"text-align: right;\">\n      <th></th>\n      <th>age</th>\n      <th>sex</th>\n      <th>bmi</th>\n      <th>children</th>\n      <th>smoker</th>\n      <th>region</th>\n      <th>charges</th>\n      <th>insuranceclaim</th>\n    </tr>\n  </thead>\n  <tbody>\n    <tr>\n      <th>0</th>\n      <td>19</td>\n      <td>0</td>\n      <td>27.900</td>\n      <td>0</td>\n      <td>1</td>\n      <td>3</td>\n      <td>16884.92400</td>\n      <td>1</td>\n    </tr>\n    <tr>\n      <th>1</th>\n      <td>18</td>\n      <td>1</td>\n      <td>33.770</td>\n      <td>1</td>\n      <td>0</td>\n      <td>2</td>\n      <td>1725.55230</td>\n      <td>1</td>\n    </tr>\n    <tr>\n      <th>2</th>\n      <td>28</td>\n      <td>1</td>\n      <td>33.000</td>\n      <td>3</td>\n      <td>0</td>\n      <td>2</td>\n      <td>4449.46200</td>\n      <td>0</td>\n    </tr>\n    <tr>\n      <th>3</th>\n      <td>33</td>\n      <td>1</td>\n      <td>22.705</td>\n      <td>0</td>\n      <td>0</td>\n      <td>1</td>\n      <td>21984.47061</td>\n      <td>0</td>\n    </tr>\n    <tr>\n      <th>4</th>\n      <td>32</td>\n      <td>1</td>\n      <td>28.880</td>\n      <td>0</td>\n      <td>0</td>\n      <td>1</td>\n      <td>3866.85520</td>\n      <td>1</td>\n    </tr>\n  </tbody>\n</table>\n</div>",
            "text/plain": "   age  sex     bmi  children  smoker  region      charges  insuranceclaim\n0   19    0  27.900         0       1       3  16884.92400               1\n1   18    1  33.770         1       0       2   1725.55230               1\n2   28    1  33.000         3       0       2   4449.46200               0\n3   33    1  22.705         0       0       1  21984.47061               0\n4   32    1  28.880         0       0       1   3866.85520               1"
          },
          "metadata": {}
        }
      ]
    },
    {
      "metadata": {
        "trusted": true
      },
      "cell_type": "code",
      "source": "med_charges.info()",
      "execution_count": 5,
      "outputs": [
        {
          "output_type": "stream",
          "text": "<class 'pandas.core.frame.DataFrame'>\nRangeIndex: 1338 entries, 0 to 1337\nData columns (total 8 columns):\nage               1338 non-null int64\nsex               1338 non-null int64\nbmi               1338 non-null float64\nchildren          1338 non-null int64\nsmoker            1338 non-null int64\nregion            1338 non-null int64\ncharges           1338 non-null float64\ninsuranceclaim    1338 non-null int64\ndtypes: float64(2), int64(6)\nmemory usage: 83.7 KB\n",
          "name": "stdout"
        }
      ]
    },
    {
      "metadata": {},
      "cell_type": "markdown",
      "source": "In the previous assignment, you used the frequentist approach to estimate the lower limit for the 95% confidence interval on the mean hospital charge. This approach relies on statistical theory that has been developed over the years and is also limited to statistics for which theoretical results on the sampling distribution exist. These results are remarkably useful and applicable much of the time and under a surprisingly wide range of conditions."
    },
    {
      "metadata": {},
      "cell_type": "markdown",
      "source": "Having calculated the 95% lower confidence interval using frequentist theory in the previous exercise, you'll now use bootstrap inference to verify your calculations and check that you get consistent results without making the assumptions required before. After all, the distribution of charges really was very non-normal."
    },
    {
      "metadata": {},
      "cell_type": "markdown",
      "source": "__Q:__ Use bootstrap sampling to estimate the same 95% confidence interval lower limit as before."
    },
    {
      "metadata": {},
      "cell_type": "markdown",
      "source": "__A:__"
    },
    {
      "metadata": {
        "trusted": true
      },
      "cell_type": "code",
      "source": "\ndef bootstrap_replicate_1d(data, func):\n    return func(np.random.choice(data, size=len(data)))\n\n\ndef draw_bs_reps(data, func, size=1):\n    \"\"\"Draw bootstrap replicates.\"\"\"\n\n    # Initialize array of replicates: bs_replicates\n    bs_replicates = np.empty(size)\n\n    # Generate replicates\n    for i in range(size):\n        bs_replicates[i] = bootstrap_replicate_1d(data, func)\n\n    return bs_replicates\n",
      "execution_count": 6,
      "outputs": []
    },
    {
      "metadata": {
        "trusted": true
      },
      "cell_type": "code",
      "source": "np.random.seed(47)\nN_rep = 10000\n\nm_charges = med_charges.charges\nm_charges_mean = np.mean(m_charges)\nbs_mean_reps = draw_bs_reps(m_charges, np.mean, N_rep)\n\nprint('The mean medical charge is $', m_charges_mean)\nprint('The 95% confidence interval lower limit is ', np.percentile(bs_mean_reps, 5))\n\n",
      "execution_count": 7,
      "outputs": [
        {
          "output_type": "stream",
          "text": "The mean medical charge is $ 13270.422265141257\nThe 95% confidence interval lower limit is  12724.467921704\n",
          "name": "stdout"
        }
      ]
    },
    {
      "metadata": {},
      "cell_type": "markdown",
      "source": "If you performed 10000 replicates immediately after setting the random seed to 47, you should get the value 12724 here, which compares very well with the value 12725 obtained using the _t_-distribution confidence interval previously. It is a most pleasant result to see the predictions of classical frequentist theory match with results that are now possible through the number-crunching ability of computers."
    },
    {
      "metadata": {},
      "cell_type": "markdown",
      "source": "Remember, in the previous mini-projects, we saw that there are two ways of performing a _t_-test from a sample, depending on whether we can assume the groups have equal variance or not. We can actually easily test this using the bootstrap approach!"
    },
    {
      "metadata": {},
      "cell_type": "markdown",
      "source": "__Q:__ Calculate the 95% confidence interval for the difference between the standard deviations of insurance and non-insurance claim charges (insured - non-insured). Calculate the differences over 10000 replicates. Plot the histogram of values and mark the locations of the percentiles. State the null and alternative hypothesis and comment on whether you would retain or reject the null hypothesis in this case and why."
    },
    {
      "metadata": {},
      "cell_type": "markdown",
      "source": "__A:__ Null hypothesis: There is no difference between the standard deviations of insurance and non-insurance claim charges (the difference in standard deviations is zero).\nAlternative hypothesis: There is a difference between the standard deviations of insurance and non-insurance claim charges (the difference in standard deviations is greater than zero)."
    },
    {
      "metadata": {
        "trusted": true
      },
      "cell_type": "code",
      "source": "# Subset the data; insured, non_ins\ninsured = med_charges[med_charges.insuranceclaim == 1].charges\nnon_ins = med_charges[med_charges.insuranceclaim == 0].charges",
      "execution_count": 8,
      "outputs": []
    },
    {
      "metadata": {
        "trusted": true,
        "scrolled": true
      },
      "cell_type": "code",
      "source": "# Histograms of insured vs. non-insured charges\n\nplt.hist(insured, bins=50, normed=True, alpha=0.5)\nplt.hist(non_ins, bins=50, normed=True, alpha=0.5)\nplt.legend(['insured', 'non-insured'], loc='upper right')",
      "execution_count": 9,
      "outputs": [
        {
          "output_type": "execute_result",
          "execution_count": 9,
          "data": {
            "text/plain": "<matplotlib.legend.Legend at 0x7ff27a72fcc0>"
          },
          "metadata": {}
        },
        {
          "output_type": "display_data",
          "data": {
            "image/png": "[encoded data removed]",
            "text/plain": "<matplotlib.figure.Figure at 0x7ff27a75a518>"
          },
          "metadata": {}
        }
      ]
    },
    {
      "metadata": {
        "trusted": true
      },
      "cell_type": "code",
      "source": "def diff_of_sd(x, y):\n    \"\"\"Find difference in standard deviations.\"\"\"\n\n    # Set up array of indices to sample from: inds\n    diff = np.std(x) - np.std(y)\n\n    return diff",
      "execution_count": 10,
      "outputs": []
    },
    {
      "metadata": {
        "trusted": true
      },
      "cell_type": "code",
      "source": "print('The standard deviation of insured charges is ', np.std(insured))\nprint('The standard deviation of non-insured charges is ', np.std(non_ins))\n\nsd_diff_obs = diff_of_sd(insured, non_ins)\n\nprint('The observed difference in standard deviation for this data set is ', sd_diff_obs)",
      "execution_count": 11,
      "outputs": [
        {
          "output_type": "stream",
          "text": "The standard deviation of insured charges is  14036.956250260411\nThe standard deviation of non-insured charges is  6440.699841605233\nThe observed difference in standard deviation for this data set is  7596.256408655178\n",
          "name": "stdout"
        }
      ]
    },
    {
      "metadata": {
        "trusted": true
      },
      "cell_type": "code",
      "source": "# Bootstrap replicates of standard deviation\nins_bs_reps = draw_bs_reps(insured, np.std, 10000)\nnon_ins_bs_reps = draw_bs_reps(non_ins, np.std, 10000)\n\n# Find the difference\ndiff_reps = ins_bs_reps - non_ins_bs_reps",
      "execution_count": 12,
      "outputs": []
    },
    {
      "metadata": {
        "trusted": true
      },
      "cell_type": "code",
      "source": "diff_reps",
      "execution_count": 13,
      "outputs": [
        {
          "output_type": "execute_result",
          "execution_count": 13,
          "data": {
            "text/plain": "array([7517.27529227, 7589.57190776, 6908.66472585, ..., 7691.9185239 ,\n       8290.78426488, 7252.39471188])"
          },
          "metadata": {}
        }
      ]
    },
    {
      "metadata": {
        "trusted": true
      },
      "cell_type": "code",
      "source": "llimit, ulimit = np.percentile(diff_reps, [2.5, 97.5])\nprint(llimit, ulimit)",
      "execution_count": 14,
      "outputs": [
        {
          "output_type": "stream",
          "text": "6670.017989970309 8504.748683311302\n",
          "name": "stdout"
        }
      ]
    },
    {
      "metadata": {
        "trusted": true
      },
      "cell_type": "code",
      "source": "plt.hist(diff_reps, bins=50, normed=True)\nplt.title('Replicates: difference between standard deviations')\nplt.xlabel('Standard Deviation Difference')\nplt.ylabel('PDF')\nplt.axvline(llimit, color='red')\nplt.axvline(ulimit, color='red')",
      "execution_count": 15,
      "outputs": [
        {
          "output_type": "execute_result",
          "execution_count": 15,
          "data": {
            "text/plain": "<matplotlib.lines.Line2D at 0x7ff27a3ff8d0>"
          },
          "metadata": {}
        },
        {
          "output_type": "display_data",
          "data": {
            "image/png": "[encoded data removed]",
            "text/plain": "<matplotlib.figure.Figure at 0x7ff27a3cc320>"
          },
          "metadata": {}
        }
      ]
    },
    {
      "metadata": {},
      "cell_type": "markdown",
      "source": "Because the observed standard deviation from this data set is about 7596, and falls within the 95% confidence interval [6698.2, 8495.3], the observed difference in standard deviations is likely to be accurate. We should reject the null hypothesis because zero is outside of the 95% confidence interval, and conclude that the insured and non-insured charges have different standard deviations. "
    },
    {
      "metadata": {},
      "cell_type": "markdown",
      "source": "## Confidence interval and p-value"
    },
    {
      "metadata": {},
      "cell_type": "markdown",
      "source": "The confidence interval above is often a useful quantity to estimate. If we wish to limit our expected probability of making a Type I error (where we wrongly reject the null hypothesis, and it is, instead, true) to $\\alpha$, the associated confidence interval is our estimate of the interval within which we expect the true population value to be found $100\\times(1 - \\alpha)$% of the time we do this test. In the above we performed bootstrap replicates to estimate the interval and reject the null hypothesis if this interval did not contain zero. You will sometimes see such an interval reported in the output of statistical functions.\n\nThe partner of the confidence interval is the p-value. The p-value and the confidence interval are linked through our choice of $\\alpha$. The p-value tells us how likely it is, under the null hypothesis, to get an outcome at least as extreme as what was observed. If this fails to reach the level of our _pre-specified_ $\\alpha$, we decide the null hypothesis is sufficiently unlikely to be true and thus reject it. To calculate this p-value via the bootstrap, we have to put ourselves in a position where we are simulating the null hypothesis being true and then calculate the fraction of times we observe a result at least as extreme as that actually observed.\n\nRemember how, previously, you used the _t_-test to calculate the p-value for the observed difference between the means of insured and non-insured medical cases. We're now going to repeat this, this time using the bootstrap approach.\n\n__Q:__ Perform a bootstrapped hypothesis test at the 5% significance level ($\\alpha = 0.05$) to calculate the p-value of the observed difference between insurance and non-insurance charges, state your null and alternative hypotheses and whether you retain or reject the null hypothesis for the given significance level."
    },
    {
      "metadata": {},
      "cell_type": "markdown",
      "source": "__A:__"
    },
    {
      "metadata": {
        "trusted": true
      },
      "cell_type": "markdown",
      "source": "Null hypothesis: There is no difference between the means of insurance and non-insurance charges (the difference = 0).\nAlternative hypothesis: There is a difference between the means of insurance and non-insurance charges (the difference is greater than 0)."
    },
    {
      "metadata": {
        "trusted": true
      },
      "cell_type": "code",
      "source": "# The observed difference between the means of insured and non-insured charges\nobs_diff = np.mean(insured) - np.mean(non_ins)\nprint('The observed difference of means is $', round(obs_diff,2))",
      "execution_count": 16,
      "outputs": [
        {
          "output_type": "stream",
          "text": "The observed difference of means is $ 7602.51\n",
          "name": "stdout"
        }
      ]
    },
    {
      "metadata": {
        "trusted": true
      },
      "cell_type": "code",
      "source": "# Find the mean of all charges; total_mean\ntotal_mean = np.mean(m_charges)\nprint('The mean of all charges is $', round(total_mean,2))",
      "execution_count": 17,
      "outputs": [
        {
          "output_type": "stream",
          "text": "The mean of all charges is $ 13270.42\n",
          "name": "stdout"
        }
      ]
    },
    {
      "metadata": {
        "trusted": true
      },
      "cell_type": "code",
      "source": "# Shift the means of insured and non-insured data, and make their means equal to total_mean.\nins_shifted = insured - np.mean(insured) + total_mean\nnon_ins_shifted = non_ins - np.mean(non_ins) + total_mean",
      "execution_count": 18,
      "outputs": []
    },
    {
      "metadata": {
        "trusted": true
      },
      "cell_type": "code",
      "source": "# Bootstrap replicates of means\nbs_ins_means = draw_bs_reps(ins_shifted, np.mean, 10000)\nbs_non_ins_means = draw_bs_reps(non_ins_shifted, np.mean, 10000)\n\n# The bootstrapped difference of means\nbs_dom = bs_ins_means - bs_non_ins_means\n",
      "execution_count": 19,
      "outputs": []
    },
    {
      "metadata": {
        "trusted": true
      },
      "cell_type": "code",
      "source": "pval = np.sum(bs_dom >= obs_diff) / len(bs_dom)\npval",
      "execution_count": 20,
      "outputs": [
        {
          "output_type": "execute_result",
          "execution_count": 20,
          "data": {
            "text/plain": "0.0"
          },
          "metadata": {}
        }
      ]
    },
    {
      "metadata": {},
      "cell_type": "markdown",
      "source": "We get a p-value of 0, this means that none of the bootstrap replicates were as extreme as the observed difference of means. Because the p-value of 0 < 0.05, we should reject the null hypothesis and conclude that there is a significant difference between the means of insured and non-insured charges."
    },
    {
      "metadata": {},
      "cell_type": "markdown",
      "source": "__Q:__ To put the above result in perspective, plot the histogram of your bootstrapped differences along with lines marking the locations of the observed difference. (Why would we plot more than one line, given that we only have one observed difference?)"
    },
    {
      "metadata": {},
      "cell_type": "markdown",
      "source": "__A:__ We would get two lines, because we don't know if the mean from insured charges is greater or less than the mean from non-insured charges. In this case, with the way I wrote the code, if the mean of the insured charges is greater that the mean of non-insured charges, then the difference will be positive. However, if the mean of the insured charges is less than the mean of the non-insured charges, then the difference will be negative. "
    },
    {
      "metadata": {
        "trusted": true
      },
      "cell_type": "code",
      "source": "plt.hist(bs_dom, bins=50, normed=True)\nplt.axvline(obs_diff, color='red')\nplt.axvline(-obs_diff, color='red')\nplt.title('Bootstrap: Difference of means')\nplt.xlabel('Bootstrap')\nplt.ylabel('Frequency')",
      "execution_count": 22,
      "outputs": [
        {
          "output_type": "execute_result",
          "execution_count": 22,
          "data": {
            "text/plain": "Text(0,0.5,'Frequency')"
          },
          "metadata": {}
        },
        {
          "output_type": "display_data",
          "data": {
            "image/png": "[encoded data removed]",
            "text/plain": "<matplotlib.figure.Figure at 0x7ff27a6a4240>"
          },
          "metadata": {}
        }
      ]
    },
    {
      "metadata": {},
      "cell_type": "markdown",
      "source": "__Q:__ Compare your p-value above with that obtained using the _t_-test function in the previous assignment. Do you think you would want to try to perform enough bootstrap replicates to observe a random difference as large as that we did observe?"
    },
    {
      "metadata": {},
      "cell_type": "markdown",
      "source": "__A:__ In the previous assignment, the p-value from the t-test function was 4.090550214373795e-31, which is very close to zero. The p-values from the t-test and bootstrapping are about the same. We already simulated 10000 replicates, and the observed difference is very far from even the highest bootstrap replicate, therefore we shouldn't need to perform more bootstrap replicates."
    },
    {
      "metadata": {},
      "cell_type": "markdown",
      "source": "__Q:__ Consider the two variants of the _t_-test we performed in the previous assignment. Which one would you use now?"
    },
    {
      "metadata": {
        "slideshow": {
          "slide_type": "slide"
        }
      },
      "cell_type": "markdown",
      "source": "__A:__ I would use the function scipy.stats.ttest_ind_from_stats, with equal_var=False. The insured and non-insured charges are two independent samples, but with different sample variances."
    },
    {
      "metadata": {},
      "cell_type": "markdown",
      "source": "__Q:__ If, instead of being asked whether the means of two groups were different, you were working with an ad-recommender team who wanted to release a new recommendation algorithm, and you were looking at click-through rate both for the current algorithm (call it A) and from trials of their new algorithm (call it B), would you perform a two-sided test as above? What would be your null and alternative hypotheses and what would be the real-world consequence of rejecting the null hypothesis?"
    },
    {
      "metadata": {},
      "cell_type": "markdown",
      "source": "__A:__ No, I wouldn't perform a two-sided test as because we only want to know if the click-through rates are different. Null hypothesis: A and B have the same click-through rate; the difference of click-through rates of A and B = 0. Alternative hypothesis: The click-through rate of B is greater than the click-through rate of A. If we rejected the null hypothesis and found that the click-through rates of B were significantly greater than the click-through rates of A, I would recommend changing to the new algorithm."
    },
    {
      "metadata": {},
      "cell_type": "markdown",
      "source": "# Learning outcomes\n\nYou've previously applied frequentist methods to calculate confidence intervals, p-values, and perform hypothesis tests. Frequentist methods use theoretical results to calculate what we expect would happen if experiments were to be run again and again and again. Now you've seen how you can do the same things using the bootstrap approach, which does not rely on such theory, and attendant assumptions, but instead literally does run experiments again and again and again.\n\nIn these exercises, you have:\n* calculated the same confidence interval lower limit as you did previously\n* tested the assumption that the variances of the two groups (insured vs. non-insured) were equal - something a bit harder to do using the frequentist method because of the nature of the sampling distribution for variance\n* calculated the p-value for the difference between the means of the two groups and compared with the result obtained using the previous frequentist approach\n\nYou are now well equipped to apply the bootstrap approach to a wide variety of problems. Just think about what conditions you wish to recreate in your simulated reruns."
    }
  ],
  "metadata": {
    "kernelspec": {
      "name": "python3",
      "display_name": "Python 3",
      "language": "python"
    },
    "language_info": {
      "mimetype": "text/x-python",
      "nbconvert_exporter": "python",
      "name": "python",
      "file_extension": ".py",
      "version": "3.5.4",
      "pygments_lexer": "ipython3",
      "codemirror_mode": {
        "version": 3,
        "name": "ipython"
      }
    }
  },
  "nbformat": 4,
  "nbformat_minor": 2
}